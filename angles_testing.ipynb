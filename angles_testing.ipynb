{
 "cells": [
  {
   "cell_type": "code",
   "execution_count": 14,
   "metadata": {},
   "outputs": [],
   "source": [
    "import torch\n",
    "import cv2\n",
    "import numpy as np\n",
    "import matplotlib.pyplot as plt\n",
    "import utils\n",
    "import os\n",
    "from icecream import ic\n",
    "import angles\n",
    "from models import unetnc\n",
    "from models.backwardmapper import Backwardmapper\n",
    "import torch.nn as nn\n",
    "#import seaborn as sns\n",
    "#sns.set(color_codes=True)\n",
    "data_dir= 'Dataset Preview/Inv3D preview complete V2/data/train/'\n",
    "model_wc = unetnc.Estimator3d(input_nc=3, output_nc=8, num_downs=5)\n",
    "model_bm = Backwardmapper()"
   ]
  },
  {
   "cell_type": "code",
   "execution_count": 10,
   "metadata": {},
   "outputs": [
    {
     "name": "stderr",
     "output_type": "stream",
     "text": [
      "ic| 'Without txt mask: ', torch.mean(l_angle): tensor(0.)\n",
      "ic| 'with txt msk: ', torch.mean(l_angle_msk): tensor(0.)\n"
     ]
    },
    {
     "data": {
      "text/plain": [
       "('with txt msk: ', tensor(0.))"
      ]
     },
     "execution_count": 10,
     "metadata": {},
     "output_type": "execute_result"
    }
   ],
   "source": [
    "path = data_dir + '00/'\n",
    "ang = utils.load_anlges(path)\n",
    "ang = ang.unsqueeze(0)\n",
    "\n",
    "theta_x_gt = ang[:,0:1,:,:]\n",
    "theta_y_gt = ang[:,1:2,:,:]\n",
    "l_angle = model_wc.l_angle_def(theta_x_gt, theta_y_gt, theta_x_gt, theta_y_gt, 'test')\n",
    "ic('Without txt mask: ',torch.mean(l_angle))\n",
    "\n",
    "txt_msk = utils.load_txt_msk(path)\n",
    "txt_msk = txt_msk.unsqueeze(0)\n",
    "l_angle_msk = l_angle * txt_msk\n",
    "ic('with txt msk: ', torch.mean(l_angle_msk))"
   ]
  },
  {
   "cell_type": "code",
   "execution_count": 25,
   "metadata": {},
   "outputs": [
    {
     "name": "stderr",
     "output_type": "stream",
     "text": [
      "ic| l1_loss.mean(): tensor(0.)\n",
      "ic| theta_x.mean(): tensor(-0.0009)\n",
      "ic| theta_x_gt.mean(): tensor(-0.0015)\n",
      "ic| theta_y.mean(): tensor(0.0096)\n",
      "ic| theta_y_gt.mean(): tensor(0.0118)\n",
      "ic| 'Without txt mask: ', l_angle.mean(): tensor(0.0040)\n",
      "ic| 'with txt msk: ', l_angle.mean(): tensor(0.)\n",
      "ic| l1_loss.shape: torch.Size([1, 256, 256, 2])\n",
      "    l_angle.shape: torch.Size([1, 1, 256, 256])\n",
      "ic| loss: tensor(0.)\n"
     ]
    },
    {
     "data": {
      "text/plain": [
       "tensor(0.)"
      ]
     },
     "execution_count": 25,
     "metadata": {},
     "output_type": "execute_result"
    }
   ],
   "source": [
    "path = data_dir + '08/'\n",
    "bm = utils.load_bm(path).unsqueeze(0).transpose(1,2).transpose(2,3)\n",
    "\n",
    "L1_loss = nn.L1Loss(reduction='none')\n",
    "l1_loss = L1_loss(bm,bm)\n",
    "ic(l1_loss.mean())\n",
    "\n",
    "uv = utils.load_uv(path).unsqueeze(0).transpose(1,2).transpose(2,3)\n",
    "# angle loss noch\n",
    "#ic(bm.shape)\n",
    "#N, H, W, C=2 sollte es sein\n",
    "angles_map = angles.calc_angles_torch(bm)\n",
    "#ic(angles_map.shape)\n",
    "#ic(uv.shape)\n",
    "    #:param grid: Regular grid of floats (e.g. angles) with shape N, C=2, H, W\n",
    "    #:param uv: UV map for given sample with shape N, H, W, C=3. Note, the y-coord channel (1) needs to be unmodified (top=1, bottom=0)!\n",
    "warped_angle = angles.warp_grid_torch(angles_map, uv)\n",
    "warped_angle = warped_angle.transpose(3,2).transpose(2,1)\n",
    "theta_x = warped_angle[:,0:1,:,:]\n",
    "theta_y = warped_angle[:,1:2,:,:]\n",
    "\n",
    "ang = utils.load_anlges(path)\n",
    "ang = ang.unsqueeze(0)\n",
    "theta_x_gt = ang[:,0:1,:,:]\n",
    "theta_y_gt = ang[:,1:2,:,:]\n",
    "ic(theta_x.mean())\n",
    "ic(theta_x_gt.mean())\n",
    "ic(theta_y.mean())\n",
    "ic(theta_y_gt.mean())\n",
    "\n",
    "\n",
    "\n",
    "txt_msk = utils.load_txt_msk(path).unsqueeze(0)\n",
    "l_angle = model_bm.l_angle_def(theta_x, theta_y, theta_x_gt, theta_y_gt, 'test')\n",
    "ic('Without txt mask: ',l_angle.mean())\n",
    "l_angle = l_angle * txt_msk\n",
    "ic('with txt msk: ',l_angle.mean())\n",
    "\n",
    "ic(l1_loss.shape, l_angle.shape)\n",
    "loss = torch.mean(l1_loss.transpose(3,2).transpose(2,1) + l_angle)\n",
    "ic(loss)"
   ]
  },
  {
   "cell_type": "code",
   "execution_count": null,
   "metadata": {},
   "outputs": [],
   "source": []
  },
  {
   "cell_type": "code",
   "execution_count": null,
   "metadata": {},
   "outputs": [],
   "source": []
  }
 ],
 "metadata": {
  "interpreter": {
   "hash": "8ac587500089045bda0d8680467a78b2a5f7abf79b6086e96a7d36f8c178cf35"
  },
  "kernelspec": {
   "display_name": "Python 3.8.8 64-bit",
   "name": "python3"
  },
  "language_info": {
   "codemirror_mode": {
    "name": "ipython",
    "version": 3
   },
   "file_extension": ".py",
   "mimetype": "text/x-python",
   "name": "python",
   "nbconvert_exporter": "python",
   "pygments_lexer": "ipython3",
   "version": "3.8.8"
  },
  "orig_nbformat": 4
 },
 "nbformat": 4,
 "nbformat_minor": 2
}