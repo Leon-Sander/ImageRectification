{
 "cells": [
  {
   "cell_type": "code",
   "execution_count": 14,
   "metadata": {},
   "outputs": [],
   "source": [
    "import torch\n",
    "import cv2\n",
    "import numpy as np\n",
    "import matplotlib.pyplot as plt\n",
    "import utils\n",
    "from icecream import ic\n",
    "#import seaborn as sns\n",
    "#sns.set(color_codes=True)\n",
    "data_dir= 'Dataset Preview/Inv3D preview complete V2/data/train/'"
   ]
  },
  {
   "cell_type": "code",
   "execution_count": 20,
   "metadata": {},
   "outputs": [],
   "source": [
    "path = data_dir + '00'\n",
    "\n",
    "img = utils.load_warped_document_chw(path)\n",
    "img = img.transpose(0,1).transpose(1,2)\n",
    "\n",
    "wc = np.load(path + '/warped_WC.npz')['warped_WC']\n",
    "bm = np.load(path + '/warped_BM.npz')['warped_BM']\n",
    "\n",
    "\n",
    "wc, bm = utils.tight_crop_wc_bm(wc, bm)"
   ]
  },
  {
   "cell_type": "code",
   "execution_count": 21,
   "metadata": {},
   "outputs": [],
   "source": [
    "import augmentationsk\n",
    "wc_dummy = utils.load_wc(data_dir + '00').transpose(0,1).transpose(1,2)\n",
    "wc_dummy = wc_dummy.numpy()\n",
    "img, wc_dummy = augmentationsk.tight_crop(img, wc_dummy)\n",
    "img = cv2.resize(img, (256,256), interpolation=cv2.INTER_NEAREST)"
   ]
  },
  {
   "cell_type": "code",
   "execution_count": 22,
   "metadata": {},
   "outputs": [
    {
     "name": "stderr",
     "output_type": "stream",
     "text": [
      "ic| img.shape: torch.Size([1, 3, 256, 256])\n",
      "ic| bm.shape: torch.Size([256, 256, 2])\n",
      "ic| unwarped_img.shape: (256, 256, 3)\n"
     ]
    },
    {
     "data": {
      "text/plain": [
       "(256, 256, 3)"
      ]
     },
     "execution_count": 22,
     "metadata": {},
     "output_type": "execute_result"
    }
   ],
   "source": [
    "img = torch.from_numpy(img).transpose(2,1).transpose(1,0).unsqueeze(0)\n",
    "ic(img.shape)\n",
    "#img = torch.from_numpy(img).float()\n",
    "#img = img.unsqueeze(0)\n",
    "ic(bm.shape)\n",
    "\"BM shape needs to be (N, H, W, C)\"\n",
    "#n, c, h, w = img.shape\n",
    "unwarped_img = utils.unwarp_image_crop(img,bm.unsqueeze(0))\n",
    "ic(unwarped_img.shape)"
   ]
  },
  {
   "cell_type": "code",
   "execution_count": 23,
   "metadata": {},
   "outputs": [
    {
     "data": {
      "text/plain": [
       "<matplotlib.image.AxesImage at 0x7f082ab5c0d0>"
      ]
     },
     "execution_count": 23,
     "metadata": {},
     "output_type": "execute_result"
    },
    {
     "data": {
      "image/png": "[encoded data removed]",
      "text/plain": [
       "<Figure size 432x288 with 1 Axes>"
      ]
     },
     "metadata": {
      "needs_background": "light"
     },
     "output_type": "display_data"
    }
   ],
   "source": [
    "#unwarped_img = torch.from_numpy(unwarped_img).transpose(0,1).transpose(1,2).numpy()\n",
    "plt.imshow(unwarped_img)"
   ]
  },
  {
   "cell_type": "code",
   "execution_count": 6,
   "metadata": {},
   "outputs": [
    {
     "data": {
      "text/plain": [
       "(256, 256, 3)"
      ]
     },
     "execution_count": 6,
     "metadata": {},
     "output_type": "execute_result"
    }
   ],
   "source": [
    "unwarped_img.shape"
   ]
  },
  {
   "cell_type": "code",
   "execution_count": null,
   "metadata": {},
   "outputs": [],
   "source": []
  }
 ],
 "metadata": {
  "interpreter": {
   "hash": "8ac587500089045bda0d8680467a78b2a5f7abf79b6086e96a7d36f8c178cf35"
  },
  "kernelspec": {
   "display_name": "Python 3.8.8 64-bit",
   "name": "python3"
  },
  "language_info": {
   "codemirror_mode": {
    "name": "ipython",
    "version": 3
   },
   "file_extension": ".py",
   "mimetype": "text/x-python",
   "name": "python",
   "nbconvert_exporter": "python",
   "pygments_lexer": "ipython3",
   "version": "3.8.8"
  },
  "orig_nbformat": 4
 },
 "nbformat": 4,
 "nbformat_minor": 2
}