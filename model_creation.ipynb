{
 "metadata": {
  "language_info": {
   "codemirror_mode": {
    "name": "ipython",
    "version": 3
   },
   "file_extension": ".py",
   "mimetype": "text/x-python",
   "name": "python",
   "nbconvert_exporter": "python",
   "pygments_lexer": "ipython3",
   "version": "3.8.8"
  },
  "orig_nbformat": 2,
  "kernelspec": {
   "name": "python388jvsc74a57bd040211611db766dc04d4e34028715744ed9c5ebf71c9517b1ff2182e4424a3492",
   "display_name": "Python 3.8.8 64-bit ('rapids-0.19': conda)"
  },
  "metadata": {
   "interpreter": {
    "hash": "8ac587500089045bda0d8680467a78b2a5f7abf79b6086e96a7d36f8c178cf35"
   }
  }
 },
 "nbformat": 4,
 "nbformat_minor": 2,
 "cells": [
  {
   "cell_type": "code",
   "execution_count": 115,
   "metadata": {},
   "outputs": [],
   "source": [
    "from models import unetnc\n",
    "import numpy as np\n",
    "import pickle as pkl\n",
    "import cv2\n",
    "import torch\n",
    "import cv2\n",
    "\n",
    "DATA_PATH = 'Dataset Preview/Inv3D preview/data/'\n",
    "# warped WC sind die 3D Koordinaten nach dem ersten Modell bzw. dewarpnet -> Ground Truth"
   ]
  },
  {
   "cell_type": "code",
   "execution_count": 116,
   "metadata": {},
   "outputs": [],
   "source": [
    "trainimage_gt = np.load(DATA_PATH + 'train/06/warped_WC.npz')"
   ]
  },
  {
   "cell_type": "code",
   "execution_count": 117,
   "metadata": {},
   "outputs": [],
   "source": [
    "img_t = trainimage_gt['warped_WC']\n",
    "#img_t = torch.from_numpy(img).float()"
   ]
  },
  {
   "cell_type": "code",
   "execution_count": 118,
   "metadata": {},
   "outputs": [
    {
     "output_type": "execute_result",
     "data": {
      "text/plain": [
       "array([[[0., 0., 0., ..., 0., 0., 0.],\n",
       "        [0., 0., 0., ..., 0., 0., 0.],\n",
       "        [0., 0., 0., ..., 0., 0., 0.],\n",
       "        ...,\n",
       "        [0., 0., 0., ..., 0., 0., 0.],\n",
       "        [0., 0., 0., ..., 0., 0., 0.],\n",
       "        [0., 0., 0., ..., 0., 0., 0.]],\n",
       "\n",
       "       [[0., 0., 0., ..., 0., 0., 0.],\n",
       "        [0., 0., 0., ..., 0., 0., 0.],\n",
       "        [0., 0., 0., ..., 0., 0., 0.],\n",
       "        ...,\n",
       "        [0., 0., 0., ..., 0., 0., 0.],\n",
       "        [0., 0., 0., ..., 0., 0., 0.],\n",
       "        [0., 0., 0., ..., 0., 0., 0.]],\n",
       "\n",
       "       [[0., 0., 0., ..., 0., 0., 0.],\n",
       "        [0., 0., 0., ..., 0., 0., 0.],\n",
       "        [0., 0., 0., ..., 0., 0., 0.],\n",
       "        ...,\n",
       "        [0., 0., 0., ..., 0., 0., 0.],\n",
       "        [0., 0., 0., ..., 0., 0., 0.],\n",
       "        [0., 0., 0., ..., 0., 0., 0.]]])"
      ]
     },
     "metadata": {},
     "execution_count": 118
    }
   ],
   "source": [
    "#normalize label\n",
    "lbl = img_t\n",
    "msk=((lbl[:,:,0]!=0)&(lbl[:,:,1]!=0)&(lbl[:,:,2]!=0)).astype(np.uint8)*255\n",
    "xmx, xmn, ymx, ymn,zmx, zmn= 1.2539363, -1.2442188, 1.2396319, -1.2289206, 0.6436657, -0.67492497   # calculate from all the wcs\n",
    "lbl[:,:,0]= (lbl[:,:,0]-zmn)/(zmx-zmn)\n",
    "lbl[:,:,1]= (lbl[:,:,1]-ymn)/(ymx-ymn)\n",
    "lbl[:,:,2]= (lbl[:,:,2]-xmn)/(xmx-xmn)\n",
    "lbl=cv2.bitwise_and(lbl,lbl,mask=msk)\n",
    "#lbl = cv2.resize(lbl, self.img_size, interpolation=cv2.INTER_NEAREST)\n",
    "lbl = lbl.transpose(2, 0, 1)   # NHWC -> NCHW\n",
    "lbl = np.array(lbl, dtype=np.float64)\n",
    "lbl"
   ]
  },
  {
   "cell_type": "code",
   "execution_count": 79,
   "metadata": {},
   "outputs": [
    {
     "output_type": "execute_result",
     "data": {
      "text/plain": [
       "numpy.ndarray"
      ]
     },
     "metadata": {},
     "execution_count": 79
    }
   ],
   "source": [
    "type(trainimage_gt['warped_WC'])"
   ]
  },
  {
   "cell_type": "code",
   "execution_count": 82,
   "metadata": {},
   "outputs": [
    {
     "output_type": "error",
     "ename": "ValueError",
     "evalue": "Cannot load file containing pickled data when allow_pickle=False",
     "traceback": [
      "\u001b[0;31m---------------------------------------------------------------------------\u001b[0m",
      "\u001b[0;31mValueError\u001b[0m                                Traceback (most recent call last)",
      "\u001b[0;32m<ipython-input-82-bc3e358d2bae>\u001b[0m in \u001b[0;36m<module>\u001b[0;34m\u001b[0m\n\u001b[0;32m----> 1\u001b[0;31m \u001b[0mnp\u001b[0m\u001b[0;34m.\u001b[0m\u001b[0mload\u001b[0m\u001b[0;34m(\u001b[0m\u001b[0mDATA_PATH\u001b[0m \u001b[0;34m+\u001b[0m \u001b[0;34m'train/06/warped_document.png'\u001b[0m\u001b[0;34m)\u001b[0m\u001b[0;34m\u001b[0m\u001b[0;34m\u001b[0m\u001b[0m\n\u001b[0m",
      "\u001b[0;32m~/.local/lib/python3.8/site-packages/numpy/lib/npyio.py\u001b[0m in \u001b[0;36mload\u001b[0;34m(file, mmap_mode, allow_pickle, fix_imports, encoding)\u001b[0m\n\u001b[1;32m    443\u001b[0m             \u001b[0;31m# Try a pickle\u001b[0m\u001b[0;34m\u001b[0m\u001b[0;34m\u001b[0m\u001b[0;34m\u001b[0m\u001b[0m\n\u001b[1;32m    444\u001b[0m             \u001b[0;32mif\u001b[0m \u001b[0;32mnot\u001b[0m \u001b[0mallow_pickle\u001b[0m\u001b[0;34m:\u001b[0m\u001b[0;34m\u001b[0m\u001b[0;34m\u001b[0m\u001b[0m\n\u001b[0;32m--> 445\u001b[0;31m                 raise ValueError(\"Cannot load file containing pickled data \"\n\u001b[0m\u001b[1;32m    446\u001b[0m                                  \"when allow_pickle=False\")\n\u001b[1;32m    447\u001b[0m             \u001b[0;32mtry\u001b[0m\u001b[0;34m:\u001b[0m\u001b[0;34m\u001b[0m\u001b[0;34m\u001b[0m\u001b[0m\n",
      "\u001b[0;31mValueError\u001b[0m: Cannot load file containing pickled data when allow_pickle=False"
     ]
    }
   ],
   "source": [
    "np.load(DATA_PATH + 'train/06/warped_document.png')"
   ]
  },
  {
   "cell_type": "code",
   "execution_count": 87,
   "metadata": {},
   "outputs": [],
   "source": [
    "from numpy import asarray\n",
    "from PIL import Image\n",
    "image = Image.open(DATA_PATH + 'train/01/warped_document.png')\n",
    "# convert image to numpy array\n",
    "img = asarray(image)\n",
    "#img = m.imresize(img, self.img_size) # uint8 with RGB mode\n",
    "if img.shape[-1] == 4:\n",
    "    img=img[:,:,:3]   # Discard the alpha channel  \n",
    "img = img[:, :, ::-1] # RGB -> BGR\n",
    "# plt.imshow(img)\n",
    "# plt.show()\n",
    "img = img.astype(float) / 255.0\n",
    "img = img.transpose(2, 0, 1) # NHWC -> NCHW\n"
   ]
  },
  {
   "cell_type": "code",
   "execution_count": 89,
   "metadata": {},
   "outputs": [
    {
     "output_type": "execute_result",
     "data": {
      "text/plain": [
       "(3, 256, 256)"
      ]
     },
     "metadata": {},
     "execution_count": 89
    }
   ],
   "source": [
    "img.shape"
   ]
  },
  {
   "cell_type": "code",
   "execution_count": 86,
   "metadata": {},
   "outputs": [
    {
     "output_type": "execute_result",
     "data": {
      "text/plain": [
       "array([[[ 29,  26,  24, 255],\n",
       "        [ 30,  27,  25, 255],\n",
       "        [ 29,  26,  24, 255],\n",
       "        ...,\n",
       "        [ 30,  26,  23, 255],\n",
       "        [ 31,  27,  24, 255],\n",
       "        [ 31,  28,  25, 255]],\n",
       "\n",
       "       [[ 28,  26,  24, 255],\n",
       "        [ 30,  27,  25, 255],\n",
       "        [ 29,  27,  24, 255],\n",
       "        ...,\n",
       "        [ 29,  26,  23, 255],\n",
       "        [ 31,  27,  24, 255],\n",
       "        [ 31,  27,  24, 255]],\n",
       "\n",
       "       [[ 28,  25,  23, 255],\n",
       "        [ 29,  26,  24, 255],\n",
       "        [ 29,  27,  24, 255],\n",
       "        ...,\n",
       "        [ 29,  26,  23, 255],\n",
       "        [ 30,  26,  23, 255],\n",
       "        [ 29,  26,  23, 255]],\n",
       "\n",
       "       ...,\n",
       "\n",
       "       [[ 22,  20,  18, 255],\n",
       "        [ 23,  20,  18, 255],\n",
       "        [ 23,  20,  18, 255],\n",
       "        ...,\n",
       "        [ 28,  26,  24, 255],\n",
       "        [ 28,  27,  24, 255],\n",
       "        [ 29,  27,  25, 255]],\n",
       "\n",
       "       [[ 23,  20,  18, 255],\n",
       "        [ 23,  20,  18, 255],\n",
       "        [ 23,  20,  18, 255],\n",
       "        ...,\n",
       "        [ 28,  26,  24, 255],\n",
       "        [ 28,  26,  24, 255],\n",
       "        [ 28,  27,  25, 255]],\n",
       "\n",
       "       [[ 23,  20,  18, 255],\n",
       "        [ 23,  20,  18, 255],\n",
       "        [ 23,  20,  18, 255],\n",
       "        ...,\n",
       "        [ 28,  27,  25, 255],\n",
       "        [ 29,  27,  25, 255],\n",
       "        [ 29,  27,  25, 255]]], dtype=uint8)"
      ]
     },
     "metadata": {},
     "execution_count": 86
    }
   ],
   "source": [
    "image"
   ]
  },
  {
   "cell_type": "code",
   "execution_count": 35,
   "metadata": {},
   "outputs": [],
   "source": [
    "DATA_PATH = 'Dataset Preview/Inv3D preview/data/'\n",
    "\n",
    "from custom_dataset import CustomImageDataset_wc\n",
    "#train_dataset = CustomImageDataset_wc(data_dir=DATA_PATH+'train/', transform=True)\n",
    "train_dataset = CustomImageDataset_wc(data_dir=DATA_PATH+'train/', transform=False)\n",
    "\n",
    "from models import unetnc\n",
    "model = unetnc.UnetGenerator(input_nc=3, output_nc=6, num_downs=3)\n",
    "#model.to('cuda')\n",
    "from torch.autograd import Variable"
   ]
  },
  {
   "cell_type": "code",
   "execution_count": 36,
   "metadata": {},
   "outputs": [],
   "source": [
    "from torch.utils import data\n",
    "#data_loader = get_loader('doc3dwc')\n",
    "#data_path = args.data_path\n",
    "#t_loader = data_loader(data_path, is_transform=True, img_size=(args.img_rows, args.img_cols), augmentations=True)\n",
    "#v_loader = data_loader(data_path, is_transform=True, split='val', img_size=(args.img_rows, args.img_cols))\n",
    "\n",
    "#n_classes = t_loader.n_classes\n",
    "trainloader = data.DataLoader(train_dataset, batch_size=1, num_workers=8, shuffle=True)\n",
    "#valloader = data.DataLoader(v_loader, batch_size=args.batch_size, num_workers=8)"
   ]
  },
  {
   "cell_type": "code",
   "execution_count": 76,
   "metadata": {},
   "outputs": [
    {
     "output_type": "execute_result",
     "data": {
      "text/plain": [
       "torch.Size([1, 3, 256, 256])"
      ]
     },
     "metadata": {},
     "execution_count": 76
    }
   ],
   "source": [
    "for item in trainloader:\n",
    "    #print(item)\n",
    "    pass\n",
    "img = Variable(item['image'])#.to('cuda'))  #images = Variable(images.cuda())\n",
    "img.size()"
   ]
  },
  {
   "cell_type": "code",
   "execution_count": null,
   "metadata": {},
   "outputs": [],
   "source": [
    "from torch.autograd import Variable\n",
    "for i, (images, labels) in enumerate(trainloader):\n",
    "    print(i)\n",
    "    print(images)\n",
    "    print(labels)\n",
    "    #images = Variable(images.cuda())\n",
    "    #labels = Variable(labels.cuda())\n",
    "\n",
    "    #optimizer.zero_grad()\n",
    "    outputs = model(images)\n",
    "    '''pred=htan(outputs)\n",
    "    g_loss=gloss(pred, labels)\n",
    "    l1loss = loss_fn(pred, labels)\n",
    "    loss=l1loss#+(0.2*g_loss)\n",
    "    avg_l1loss+=float(l1loss)\n",
    "    avg_gloss+=float(g_loss)\n",
    "    avg_loss+=float(loss)\n",
    "    train_mse+=float(MSE(pred, labels).item())\n",
    "\n",
    "    loss.backward()\n",
    "    optimizer.step()\n",
    "    global_step+=1'''\n",
    "    print('lakshooOOOO')\n",
    "    print(outputs)"
   ]
  },
  {
   "cell_type": "code",
   "execution_count": null,
   "metadata": {},
   "outputs": [],
   "source": []
  }
 ]
}