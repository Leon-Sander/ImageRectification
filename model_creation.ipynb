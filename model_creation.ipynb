{
 "metadata": {
  "language_info": {
   "codemirror_mode": {
    "name": "ipython",
    "version": 3
   },
   "file_extension": ".py",
   "mimetype": "text/x-python",
   "name": "python",
   "nbconvert_exporter": "python",
   "pygments_lexer": "ipython3",
   "version": "3.8.8"
  },
  "orig_nbformat": 2,
  "kernelspec": {
   "name": "python388jvsc74a57bd040211611db766dc04d4e34028715744ed9c5ebf71c9517b1ff2182e4424a3492",
   "display_name": "Python 3.8.8 64-bit ('rapids-0.19': conda)"
  },
  "metadata": {
   "interpreter": {
    "hash": "8ac587500089045bda0d8680467a78b2a5f7abf79b6086e96a7d36f8c178cf35"
   }
  }
 },
 "nbformat": 4,
 "nbformat_minor": 2,
 "cells": [
  {
   "cell_type": "code",
   "execution_count": 1,
   "metadata": {},
   "outputs": [],
   "source": [
    "from models import unetnc\n",
    "import numpy as np\n",
    "import pickle as pkl\n",
    "import cv2\n",
    "import torch\n",
    "import cv2\n",
    "\n",
    "DATA_PATH = 'Dataset Preview/Inv3D preview/data/'\n",
    "# warped WC sind die 3D Koordinaten nach dem ersten Modell bzw. dewarpnet -> Ground Truth"
   ]
  },
  {
   "cell_type": "code",
   "execution_count": 35,
   "metadata": {},
   "outputs": [],
   "source": [
    "from pathlib import Path\n",
    "data_dir= 'Dataset Preview/Inv3D preview complete/data/train/'\n",
    "p = Path('./')\n",
    "folder = list(p.glob(data_dir + '*/'))"
   ]
  },
  {
   "cell_type": "code",
   "execution_count": 36,
   "metadata": {},
   "outputs": [
    {
     "output_type": "execute_result",
     "data": {
      "text/plain": [
       "[PosixPath('Dataset Preview/Inv3D preview complete/data/train/06'),\n",
       " PosixPath('Dataset Preview/Inv3D preview complete/data/train/07'),\n",
       " PosixPath('Dataset Preview/Inv3D preview complete/data/train/09'),\n",
       " PosixPath('Dataset Preview/Inv3D preview complete/data/train/01'),\n",
       " PosixPath('Dataset Preview/Inv3D preview complete/data/train/05'),\n",
       " PosixPath('Dataset Preview/Inv3D preview complete/data/train/04'),\n",
       " PosixPath('Dataset Preview/Inv3D preview complete/data/train/08')]"
      ]
     },
     "metadata": {},
     "execution_count": 36
    }
   ],
   "source": [
    "folder"
   ]
  },
  {
   "cell_type": "code",
   "execution_count": null,
   "metadata": {},
   "outputs": [],
   "source": []
  },
  {
   "cell_type": "code",
   "execution_count": null,
   "metadata": {},
   "outputs": [],
   "source": []
  },
  {
   "cell_type": "code",
   "execution_count": 19,
   "metadata": {},
   "outputs": [
    {
     "output_type": "stream",
     "name": "stdout",
     "text": [
      "Dataset Preview/Inv3D preview complete/data/train/06/warped_WC.npz\nDataset Preview/Inv3D preview complete/data/train/07/warped_WC.npz\nDataset Preview/Inv3D preview complete/data/train/09/warped_WC.npz\nDataset Preview/Inv3D preview complete/data/train/01/warped_WC.npz\nDataset Preview/Inv3D preview complete/data/train/05/warped_WC.npz\nDataset Preview/Inv3D preview complete/data/train/04/warped_WC.npz\nDataset Preview/Inv3D preview complete/data/train/08/warped_WC.npz\n"
     ]
    }
   ],
   "source": [
    "for item in folder:\n",
    "    path = str(item) + '/warped_WC.npz')\n",
    "    wc_gt = np.load(path)['warped_WC']\n"
   ]
  },
  {
   "cell_type": "code",
   "execution_count": 21,
   "metadata": {},
   "outputs": [],
   "source": [
    "\n",
    "trainimage_gt = np.load(DATA_PATH + 'train/06/warped_WC.npz')"
   ]
  },
  {
   "cell_type": "code",
   "execution_count": 22,
   "metadata": {},
   "outputs": [],
   "source": [
    "img_t = trainimage_gt['warped_WC']\n",
    "#img_t = torch.from_numpy(img).float()"
   ]
  },
  {
   "cell_type": "code",
   "execution_count": 31,
   "metadata": {},
   "outputs": [],
   "source": [
    "\n",
    "img_t = img_t.transpose(2,0,1)"
   ]
  },
  {
   "cell_type": "code",
   "execution_count": 32,
   "metadata": {},
   "outputs": [
    {
     "output_type": "execute_result",
     "data": {
      "text/plain": [
       "(256, 256)"
      ]
     },
     "metadata": {},
     "execution_count": 32
    }
   ],
   "source": [
    "img_t[0].shape"
   ]
  },
  {
   "cell_type": "code",
   "execution_count": 34,
   "metadata": {},
   "outputs": [
    {
     "output_type": "execute_result",
     "data": {
      "text/plain": [
       "-0.26865804"
      ]
     },
     "metadata": {},
     "execution_count": 34
    }
   ],
   "source": [
    "np.amax(img_t[0])\n",
    "np.amin(img_t[0])"
   ]
  },
  {
   "cell_type": "code",
   "execution_count": 64,
   "metadata": {},
   "outputs": [
    {
     "output_type": "execute_result",
     "data": {
      "text/plain": [
       "array([[[0., 0., 0., ..., 0., 0., 0.],\n",
       "        [0., 0., 0., ..., 0., 0., 0.],\n",
       "        [0., 0., 0., ..., 0., 0., 0.],\n",
       "        ...,\n",
       "        [0., 0., 0., ..., 0., 0., 0.],\n",
       "        [0., 0., 0., ..., 0., 0., 0.],\n",
       "        [0., 0., 0., ..., 0., 0., 0.]],\n",
       "\n",
       "       [[0., 0., 0., ..., 0., 0., 0.],\n",
       "        [0., 0., 0., ..., 0., 0., 0.],\n",
       "        [0., 0., 0., ..., 0., 0., 0.],\n",
       "        ...,\n",
       "        [0., 0., 0., ..., 0., 0., 0.],\n",
       "        [0., 0., 0., ..., 0., 0., 0.],\n",
       "        [0., 0., 0., ..., 0., 0., 0.]],\n",
       "\n",
       "       [[0., 0., 0., ..., 0., 0., 0.],\n",
       "        [0., 0., 0., ..., 0., 0., 0.],\n",
       "        [0., 0., 0., ..., 0., 0., 0.],\n",
       "        ...,\n",
       "        [0., 0., 0., ..., 0., 0., 0.],\n",
       "        [0., 0., 0., ..., 0., 0., 0.],\n",
       "        [0., 0., 0., ..., 0., 0., 0.]]])"
      ]
     },
     "metadata": {},
     "execution_count": 64
    }
   ],
   "source": [
    "#normalize label\n",
    "lbl = img_t\n",
    "msk=((lbl[:,:,0]!=0)&(lbl[:,:,1]!=0)&(lbl[:,:,2]!=0)).astype(np.uint8)*255\n",
    "xmx, xmn, ymx, ymn,zmx, zmn= 1.2539363, -1.2442188, 1.2396319, -1.2289206, 0.6436657, -0.67492497   # calculate from all the wcs\n",
    "lbl[:,:,0]= (lbl[:,:,0]-zmn)/(zmx-zmn)\n",
    "lbl[:,:,1]= (lbl[:,:,1]-ymn)/(ymx-ymn)\n",
    "lbl[:,:,2]= (lbl[:,:,2]-xmn)/(xmx-xmn)\n",
    "lbl=cv2.bitwise_and(lbl,lbl,mask=msk)\n",
    "#lbl = cv2.resize(lbl, self.img_size, interpolation=cv2.INTER_NEAREST)\n",
    "lbl = lbl.transpose(2, 0, 1)   # NHWC -> NCHW\n",
    "lbl = np.array(lbl, dtype=np.float64)\n",
    "lbl"
   ]
  },
  {
   "cell_type": "code",
   "execution_count": 65,
   "metadata": {},
   "outputs": [
    {
     "output_type": "execute_result",
     "data": {
      "text/plain": [
       "(3, 256, 256)"
      ]
     },
     "metadata": {},
     "execution_count": 65
    }
   ],
   "source": [
    "lbl.shape"
   ]
  },
  {
   "cell_type": "code",
   "execution_count": 79,
   "metadata": {},
   "outputs": [
    {
     "output_type": "execute_result",
     "data": {
      "text/plain": [
       "numpy.ndarray"
      ]
     },
     "metadata": {},
     "execution_count": 79
    }
   ],
   "source": [
    "type(trainimage_gt['warped_WC'])"
   ]
  },
  {
   "cell_type": "code",
   "execution_count": 5,
   "metadata": {},
   "outputs": [],
   "source": [
    "#np.load(DATA_PATH + 'train/06/warped_document.png')"
   ]
  },
  {
   "cell_type": "code",
   "execution_count": 87,
   "metadata": {},
   "outputs": [],
   "source": [
    "from numpy import asarray\n",
    "from PIL import Image\n",
    "image = Image.open(DATA_PATH + 'train/01/warped_document.png')\n",
    "# convert image to numpy array\n",
    "img = asarray(image)\n",
    "#img = m.imresize(img, self.img_size) # uint8 with RGB mode\n",
    "if img.shape[-1] == 4:\n",
    "    img=img[:,:,:3]   # Discard the alpha channel  \n",
    "img = img[:, :, ::-1] # RGB -> BGR\n",
    "# plt.imshow(img)\n",
    "# plt.show()\n",
    "img = img.astype(float) / 255.0\n",
    "img = img.transpose(2, 0, 1) # NHWC -> NCHW\n"
   ]
  },
  {
   "cell_type": "code",
   "execution_count": 89,
   "metadata": {},
   "outputs": [
    {
     "output_type": "execute_result",
     "data": {
      "text/plain": [
       "(3, 256, 256)"
      ]
     },
     "metadata": {},
     "execution_count": 89
    }
   ],
   "source": [
    "img.shape"
   ]
  },
  {
   "cell_type": "code",
   "execution_count": 1,
   "metadata": {},
   "outputs": [],
   "source": [
    "DATA_PATH = 'Dataset Preview/Inv3D preview/data/'\n",
    "\n",
    "from custom_dataset import CustomImageDataset_wc\n",
    "from custom_dataset import Dataset_backward_mapping\n",
    "train_dataset_bm = Dataset_backward_mapping(data_dir=DATA_PATH+'train/')\n",
    "trainloader = data.DataLoader(train_dataset_bm, batch_size=1, num_workers=8, shuffle=True)\n",
    "#train_dataset = CustomImageDataset_wc(data_dir=DATA_PATH+'train/', transform=True)\n",
    "\n",
    "#train_dataset = CustomImageDataset_wc(data_dir=DATA_PATH+'train/', transform=False)\n",
    "\n",
    "from models import unetnc\n",
    "model = unetnc.UnetGenerator(input_nc=3, output_nc=6, num_downs=3)\n",
    "#model.to('cuda')\n",
    "from torch.autograd import Variable"
   ]
  },
  {
   "cell_type": "code",
   "execution_count": 2,
   "metadata": {},
   "outputs": [],
   "source": [
    "#for param in model.parameters():\n",
    " #   param.requires_grad = False\n",
    "#for param in model.parameters():\n",
    "    #print(param)"
   ]
  },
  {
   "cell_type": "code",
   "execution_count": 3,
   "metadata": {},
   "outputs": [],
   "source": [
    "from torch.utils import data\n",
    "#data_loader = get_loader('doc3dwc')\n",
    "#data_path = args.data_path\n",
    "#t_loader = data_loader(data_path, is_transform=True, img_size=(args.img_rows, args.img_cols), augmentations=True)\n",
    "#v_loader = data_loader(data_path, is_transform=True, split='val', img_size=(args.img_rows, args.img_cols))\n",
    "\n",
    "#n_classes = t_loader.n_classes\n",
    "#trainloader = data.DataLoader(train_dataset, batch_size=1, num_workers=8, shuffle=True)\n",
    "\n",
    "#valloader = data.DataLoader(v_loader, batch_size=args.batch_size, num_workers=8)"
   ]
  },
  {
   "cell_type": "code",
   "execution_count": 4,
   "metadata": {},
   "outputs": [],
   "source": [
    "for image, labels in trainloader:\n",
    "    #print(item)\n",
    "    pass\n",
    "#img = Variable(item['image'])#.to('cuda'))  #images = Variable(images.cuda())\n",
    "#img.size()"
   ]
  },
  {
   "cell_type": "code",
   "execution_count": 7,
   "metadata": {},
   "outputs": [
    {
     "output_type": "execute_result",
     "data": {
      "text/plain": [
       "torch.Size([1, 3, 256, 256])"
      ]
     },
     "metadata": {},
     "execution_count": 7
    }
   ],
   "source": [
    "image.shape"
   ]
  },
  {
   "cell_type": "code",
   "execution_count": 6,
   "metadata": {},
   "outputs": [
    {
     "output_type": "execute_result",
     "data": {
      "text/plain": [
       "tensor([[[[0., 0., 0.,  ..., 0., 0., 0.],\n",
       "          [0., 0., 0.,  ..., 0., 0., 0.],\n",
       "          [0., 0., 0.,  ..., 0., 0., 0.],\n",
       "          ...,\n",
       "          [0., 0., 0.,  ..., 0., 0., 0.],\n",
       "          [0., 0., 0.,  ..., 0., 0., 0.],\n",
       "          [0., 0., 0.,  ..., 0., 0., 0.]],\n",
       "\n",
       "         [[0., 0., 0.,  ..., 0., 0., 0.],\n",
       "          [0., 0., 0.,  ..., 0., 0., 0.],\n",
       "          [0., 0., 0.,  ..., 0., 0., 0.],\n",
       "          ...,\n",
       "          [0., 0., 0.,  ..., 0., 0., 0.],\n",
       "          [0., 0., 0.,  ..., 0., 0., 0.],\n",
       "          [0., 0., 0.,  ..., 0., 0., 0.]],\n",
       "\n",
       "         [[0., 0., 0.,  ..., 0., 0., 0.],\n",
       "          [0., 0., 0.,  ..., 0., 0., 0.],\n",
       "          [0., 0., 0.,  ..., 0., 0., 0.],\n",
       "          ...,\n",
       "          [0., 0., 0.,  ..., 0., 0., 0.],\n",
       "          [0., 0., 0.,  ..., 0., 0., 0.],\n",
       "          [0., 0., 0.,  ..., 0., 0., 0.]]]])"
      ]
     },
     "metadata": {},
     "execution_count": 6
    }
   ],
   "source": [
    "image"
   ]
  },
  {
   "cell_type": "code",
   "execution_count": 10,
   "metadata": {},
   "outputs": [],
   "source": [
    "output = model(image)"
   ]
  },
  {
   "cell_type": "code",
   "execution_count": 15,
   "metadata": {},
   "outputs": [
    {
     "output_type": "execute_result",
     "data": {
      "text/plain": [
       "torch.Size([1, 6, 256, 256])"
      ]
     },
     "metadata": {},
     "execution_count": 15
    }
   ],
   "source": [
    "output.shape"
   ]
  },
  {
   "cell_type": "code",
   "execution_count": 17,
   "metadata": {},
   "outputs": [
    {
     "output_type": "execute_result",
     "data": {
      "text/plain": [
       "torch.Size([2, 256, 256])"
      ]
     },
     "metadata": {},
     "execution_count": 17
    }
   ],
   "source": [
    "output[0].shape"
   ]
  },
  {
   "cell_type": "code",
   "execution_count": null,
   "metadata": {},
   "outputs": [],
   "source": []
  },
  {
   "cell_type": "code",
   "execution_count": null,
   "metadata": {},
   "outputs": [],
   "source": []
  },
  {
   "cell_type": "code",
   "execution_count": null,
   "metadata": {},
   "outputs": [],
   "source": [
    "from torch.autograd import Variable\n",
    "for i, (images, labels) in enumerate(trainloader):\n",
    "    print(i)\n",
    "    print(images)\n",
    "    print(labels)\n",
    "    #images = Variable(images.cuda())\n",
    "    #labels = Variable(labels.cuda())\n",
    "\n",
    "    #optimizer.zero_grad()\n",
    "    outputs = model(images)\n",
    "    '''pred=htan(outputs)\n",
    "    g_loss=gloss(pred, labels)\n",
    "    l1loss = loss_fn(pred, labels)\n",
    "    loss=l1loss#+(0.2*g_loss)\n",
    "    avg_l1loss+=float(l1loss)\n",
    "    avg_gloss+=float(g_loss)\n",
    "    avg_loss+=float(loss)\n",
    "    train_mse+=float(MSE(pred, labels).item())\n",
    "\n",
    "    loss.backward()\n",
    "    optimizer.step()\n",
    "    global_step+=1'''\n",
    "    print('lakshooOOOO')\n",
    "    print(outputs)"
   ]
  },
  {
   "cell_type": "code",
   "execution_count": null,
   "metadata": {},
   "outputs": [],
   "source": [
    "model = MyLightningModule()\n",
    "\n",
    "trainer = Trainer()\n",
    "trainer.fit(model, train_dataloader, val_dataloader)\n",
    "trainer.validate(val_dataloaders=val_dataloaders)\n",
    "trainer.test(test_dataloaders=test_dataloaders)"
   ]
  },
  {
   "source": [
    "### Pytorch Lightning Training"
   ],
   "cell_type": "markdown",
   "metadata": {}
  },
  {
   "cell_type": "code",
   "execution_count": 4,
   "metadata": {},
   "outputs": [
    {
     "output_type": "stream",
     "name": "stderr",
     "text": [
      "GPU available: True, used: True\n",
      "TPU available: False, using: 0 TPU cores\n"
     ]
    }
   ],
   "source": [
    "import cv2\n",
    "import numpy as np\n",
    "import pytorch_lightning as pl\n",
    "from models.densenetccnl import Backwardmapper\n",
    "DATA_PATH = 'Dataset Preview/Inv3D preview complete/data/'\n",
    "data_dir= 'Dataset Preview/Inv3D preview complete/data/train/'\n",
    "\n",
    "from custom_dataset import CustomImageDataset_wc\n",
    "dataset_train = CustomImageDataset_wc(data_dir=DATA_PATH+'train/', transform=True)\n",
    "dataset_val = CustomImageDataset_wc(data_dir=DATA_PATH+'val/', transform=True)\n",
    "dataset_test = CustomImageDataset_wc(data_dir=DATA_PATH+'test/', transform=True)\n",
    "\n",
    "from custom_dataset import Dataset_backward_mapping\n",
    "train_dataset_bm = Dataset_backward_mapping(data_dir=DATA_PATH+'train/')\n",
    "\n",
    "\n",
    "\n",
    "from torch.utils.data import DataLoader\n",
    "train_loader_bm = DataLoader(train_dataset_bm, batch_size=1, num_workers=8, shuffle=True)\n",
    "\n",
    "train_loader = DataLoader(dataset_train, batch_size= 1, num_workers=12)\n",
    "val_loader = DataLoader(dataset_val, batch_size= 1, num_workers=12)\n",
    "test_loader = DataLoader(dataset_test, batch_size= 1, num_workers=12)\n",
    "\n",
    "from models import unetnc\n",
    "model = unetnc.Estimator3d(input_nc=3, output_nc=3, num_downs=0)\n",
    "model_bm = Backwardmapper()\n",
    "\n",
    "#8 channel\n",
    "\n",
    "\n",
    "# most basic trainer, uses good defaults (auto-tensorboard, checkpoints, logs, and more)\n",
    "# trainer = pl.Trainer(gpus=8) (if you have GPUs)\n",
    "trainer = pl.Trainer(gpus=1, max_epochs = 200)\n",
    "#trainer = pl.Trainer(auto_select_gpus = True, max_epochs = 100)\n",
    "#trainer.fit(model, train_loader)\n",
    "\n",
    "# Wie sieht der Batch aus, der vom trainer und train_loader generiert wird?"
   ]
  },
  {
   "cell_type": "code",
   "execution_count": 10,
   "metadata": {},
   "outputs": [
    {
     "output_type": "stream",
     "name": "stderr",
     "text": [
      "LOCAL_RANK: 0 - CUDA_VISIBLE_DEVICES: [0]\n",
      "\n",
      "  | Name    | Type                | Params\n",
      "------------------------------------------------\n",
      "0 | encoder | waspDenseEncoder128 | 21.9 M\n",
      "1 | decoder | waspDenseDecoder128 | 23.8 M\n",
      "------------------------------------------------\n",
      "45.7 M    Trainable params\n",
      "0         Non-trainable params\n",
      "45.7 M    Total params\n",
      "182.997   Total estimated model params size (MB)\n",
      "Epoch 199: 100%|██████████| 7/7 [00:00<00:00,  8.36it/s, loss=0.0741, v_num=36]\n"
     ]
    }
   ],
   "source": [
    "trainer.fit(model_bm, train_loader_bm)"
   ]
  },
  {
   "cell_type": "code",
   "execution_count": 2,
   "metadata": {},
   "outputs": [
    {
     "output_type": "execute_result",
     "data": {
      "text/plain": [
       "(1.0858383, -1.0862498, 0.8847823, -0.8838696, 0.31327668, -0.30930856)"
      ]
     },
     "metadata": {},
     "execution_count": 2
    }
   ],
   "source": [
    "CustomImageDataset_wc.calculate_min_and_max(data_dir)"
   ]
  },
  {
   "cell_type": "code",
   "execution_count": 89,
   "metadata": {},
   "outputs": [],
   "source": [
    "for batch in train_loader_bm:\n",
    "    images, labels = batch\n"
   ]
  },
  {
   "cell_type": "code",
   "execution_count": 11,
   "metadata": {},
   "outputs": [],
   "source": [
    "import numpy as np\n",
    "lbl = np.load(data_dir + '01/warped_WC.npz')['warped_WC']"
   ]
  },
  {
   "cell_type": "code",
   "execution_count": 25,
   "metadata": {},
   "outputs": [],
   "source": [
    "def l_angle_def(theta_x, theta_y, theta_x_gt, theta_y_gt , type = 'paper'):\n",
    "    if type == 'paper':\n",
    "        l_x = (torch.abs(theta_x - theta_x_gt) - math.pi) % (2*math.pi)\n",
    "        l_y = (torch.abs(theta_y - theta_y_gt) - math.pi) % (2*math.pi)\n",
    "        l_angle = l_x + l_y\n",
    "        return l_angle\n",
    "    else:\n",
    "        l_x = (torch.abs(theta_x - theta_x_gt) - math.pi) % (math.pi)\n",
    "        l_y = (torch.abs(theta_y - theta_y_gt) - math.pi) % (math.pi)\n",
    "        l_angle = l_x + l_y\n",
    "        return l_angle\n",
    "l_angle = l_angle_def(theta_x, theta_y, theta_x_gt, theta_y_gt , type = 'paper')"
   ]
  },
  {
   "cell_type": "code",
   "execution_count": 13,
   "metadata": {},
   "outputs": [],
   "source": [
    "import numpy as np\n",
    "data_dir= 'Dataset Preview/Inv3D preview complete/data/train/'\n",
    "img = np.load(data_dir + '01/warped_WC.npz')['warped_WC']\n",
    "bm = np.load(data_dir + '01/warped_BM.npz')['warped_BM']"
   ]
  },
  {
   "cell_type": "code",
   "execution_count": 49,
   "metadata": {},
   "outputs": [],
   "source": [
    "import torch.nn.functional as F\n",
    "#@staticmethod\n",
    "def unwarp_image(img, bm):\n",
    "    assert bm.shape[3] == 2, \"BM shape needs to be (N, H, W, C)\"\n",
    "\n",
    "    n, c, h, w = img.shape\n",
    "\n",
    "    bm = bm.transpose(3, 2).transpose(2, 1)\n",
    "    bm = F.interpolate(bm, size=(h, w), mode='bilinear', align_corners=True) # align_corners=True -> old behaviour\n",
    "    bm = bm.transpose(1, 2).transpose(2, 3)\n",
    "\n",
    "    img = img.float()\n",
    "    res = F.grid_sample(input=img, grid=bm, align_corners=True) # align_corners=True -> old behaviour\n",
    "    res = torch.clamp(res, 0, 1) # clip values because of numerical instabilities\n",
    "    return res "
   ]
  },
  {
   "cell_type": "code",
   "execution_count": 84,
   "metadata": {},
   "outputs": [
    {
     "output_type": "stream",
     "name": "stdout",
     "text": [
      "torch.Size([2, 448, 448])\ntorch.Size([1, 3, 256, 256])\n"
     ]
    },
    {
     "output_type": "error",
     "ename": "IndexError",
     "evalue": "tuple index out of range",
     "traceback": [
      "\u001b[0;31m---------------------------------------------------------------------------\u001b[0m",
      "\u001b[0;31mIndexError\u001b[0m                                Traceback (most recent call last)",
      "\u001b[0;32m<ipython-input-84-d71d110e9ed3>\u001b[0m in \u001b[0;36m<module>\u001b[0;34m\u001b[0m\n\u001b[1;32m     27\u001b[0m \u001b[0;31m#print(img.shape)\u001b[0m\u001b[0;34m\u001b[0m\u001b[0;34m\u001b[0m\u001b[0;34m\u001b[0m\u001b[0m\n\u001b[1;32m     28\u001b[0m \u001b[0;34m\u001b[0m\u001b[0m\n\u001b[0;32m---> 29\u001b[0;31m \u001b[0munwarped_img\u001b[0m \u001b[0;34m=\u001b[0m \u001b[0munwarp_image\u001b[0m\u001b[0;34m(\u001b[0m\u001b[0mimg\u001b[0m\u001b[0;34m,\u001b[0m\u001b[0mx\u001b[0m\u001b[0;34m)\u001b[0m\u001b[0;34m\u001b[0m\u001b[0;34m\u001b[0m\u001b[0m\n\u001b[0m\u001b[1;32m     30\u001b[0m \u001b[0munwarped_img\u001b[0m \u001b[0;34m=\u001b[0m \u001b[0mtorch\u001b[0m\u001b[0;34m.\u001b[0m\u001b[0mtranspose\u001b[0m\u001b[0;34m(\u001b[0m\u001b[0munwarped_img\u001b[0m\u001b[0;34m,\u001b[0m\u001b[0;36m1\u001b[0m\u001b[0;34m,\u001b[0m\u001b[0;36m2\u001b[0m\u001b[0;34m)\u001b[0m\u001b[0;34m\u001b[0m\u001b[0;34m\u001b[0m\u001b[0m\n\u001b[1;32m     31\u001b[0m \u001b[0munwarped_img\u001b[0m \u001b[0;34m=\u001b[0m \u001b[0mtorch\u001b[0m\u001b[0;34m.\u001b[0m\u001b[0mtranspose\u001b[0m\u001b[0;34m(\u001b[0m\u001b[0munwarped_img\u001b[0m\u001b[0;34m,\u001b[0m\u001b[0;36m2\u001b[0m\u001b[0;34m,\u001b[0m\u001b[0;36m3\u001b[0m\u001b[0;34m)\u001b[0m\u001b[0;34m\u001b[0m\u001b[0;34m\u001b[0m\u001b[0m\n",
      "\u001b[0;32m<ipython-input-49-9da919483b14>\u001b[0m in \u001b[0;36munwarp_image\u001b[0;34m(img, bm)\u001b[0m\n\u001b[1;32m      2\u001b[0m \u001b[0;31m#@staticmethod\u001b[0m\u001b[0;34m\u001b[0m\u001b[0;34m\u001b[0m\u001b[0;34m\u001b[0m\u001b[0m\n\u001b[1;32m      3\u001b[0m \u001b[0;32mdef\u001b[0m \u001b[0munwarp_image\u001b[0m\u001b[0;34m(\u001b[0m\u001b[0mimg\u001b[0m\u001b[0;34m,\u001b[0m \u001b[0mbm\u001b[0m\u001b[0;34m)\u001b[0m\u001b[0;34m:\u001b[0m\u001b[0;34m\u001b[0m\u001b[0;34m\u001b[0m\u001b[0m\n\u001b[0;32m----> 4\u001b[0;31m     \u001b[0;32massert\u001b[0m \u001b[0mbm\u001b[0m\u001b[0;34m.\u001b[0m\u001b[0mshape\u001b[0m\u001b[0;34m[\u001b[0m\u001b[0;36m3\u001b[0m\u001b[0;34m]\u001b[0m \u001b[0;34m==\u001b[0m \u001b[0;36m2\u001b[0m\u001b[0;34m,\u001b[0m \u001b[0;34m\"BM shape needs to be (N, H, W, C)\"\u001b[0m\u001b[0;34m\u001b[0m\u001b[0;34m\u001b[0m\u001b[0m\n\u001b[0m\u001b[1;32m      5\u001b[0m \u001b[0;34m\u001b[0m\u001b[0m\n\u001b[1;32m      6\u001b[0m     \u001b[0mn\u001b[0m\u001b[0;34m,\u001b[0m \u001b[0mc\u001b[0m\u001b[0;34m,\u001b[0m \u001b[0mh\u001b[0m\u001b[0;34m,\u001b[0m \u001b[0mw\u001b[0m \u001b[0;34m=\u001b[0m \u001b[0mimg\u001b[0m\u001b[0;34m.\u001b[0m\u001b[0mshape\u001b[0m\u001b[0;34m\u001b[0m\u001b[0;34m\u001b[0m\u001b[0m\n",
      "\u001b[0;31mIndexError\u001b[0m: tuple index out of range"
     ]
    }
   ],
   "source": [
    "data_path = 'Dataset Preview/Inv3D preview/data/train/09'\n",
    "input = np.load(data_path + '/warped_WC.npz')['warped_WC']\n",
    "\n",
    "labels = {}\n",
    "labels['warped_bm'] = np.load(data_path + '/warped_BM.npz')['warped_BM']\n",
    "input, labels = train_dataset_bm.transform_data(input,labels)\n",
    "x = labels['warped_bm']\n",
    "print(x.shape)\n",
    "\n",
    "import torch\n",
    "#x = torch.transpose(labels['warped_bm'],1,2)#NCHW\n",
    "#x = torch.transpose(x,2,3)\n",
    "#x = x*255\n",
    "\n",
    "import cv2\n",
    "img = cv2.imread('Dataset Preview/Inv3D preview/data/train/09/warped_document.png')\n",
    "img = dataset_train.transform_img(img)\n",
    "img = img.unsqueeze(0)#.transpose(2,3).transpose\n",
    "print(img.shape)\n",
    "'''img = img[np.newaxis,:,:,:]\n",
    "img = torch.from_numpy(img)\n",
    "print(img.shape)\n",
    "img = torch.transpose(img,2,3)\n",
    "img = torch.transpose(img,1,2)'''\n",
    "#print(img)\n",
    "#img = img / 255\n",
    "#print(img.shape)\n",
    "\n",
    "unwarped_img = unwarp_image(img,x)\n",
    "unwarped_img = torch.transpose(unwarped_img,1,2)\n",
    "unwarped_img = torch.transpose(unwarped_img,2,3)"
   ]
  },
  {
   "cell_type": "code",
   "execution_count": 88,
   "metadata": {},
   "outputs": [
    {
     "output_type": "execute_result",
     "data": {
      "text/plain": [
       "(448, 448, 2)"
      ]
     },
     "metadata": {},
     "execution_count": 88
    }
   ],
   "source": [
    "data_path = 'Dataset Preview/Inv3D preview/data/train/01'\n",
    "np.load(data_path + '/warped_BM.npz')['warped_BM'].shape"
   ]
  },
  {
   "cell_type": "code",
   "execution_count": 63,
   "metadata": {},
   "outputs": [
    {
     "output_type": "execute_result",
     "data": {
      "text/plain": [
       "torch.Size([3, 256, 256])"
      ]
     },
     "metadata": {},
     "execution_count": 63
    }
   ],
   "source": [
    "train_dataset_bm.transform_data()"
   ]
  },
  {
   "cell_type": "code",
   "execution_count": 82,
   "metadata": {},
   "outputs": [
    {
     "output_type": "execute_result",
     "data": {
      "text/plain": [
       "<matplotlib.image.AxesImage at 0x7f78ba618be0>"
      ]
     },
     "metadata": {},
     "execution_count": 82
    },
    {
     "output_type": "display_data",
     "data": {
      "text/plain": "<Figure size 432x288 with 1 Axes>",
      "image/svg+xml": "<?xml version=\"1.0\" encoding=\"utf-8\" standalone=\"no\"?>\n<!DOCTYPE svg PUBLIC \"-//W3C//DTD SVG 1.1//EN\"\n  \"http://www.w3.org/Graphics/SVG/1.1/DTD/svg11.dtd\">\n<svg height=\"251.892656pt\" version=\"1.1\" viewBox=\"0 0 262.799687 251.892656\" width=\"262.799687pt\" xmlns=\"http://www.w3.org/2000/svg\" xmlns:xlink=\"http://www.w3.org/1999/xlink\">\n <metadata>\n  <rdf:RDF xmlns:cc=\"http://creativecommons.org/ns#\" xmlns:dc=\"http://purl.org/dc/elements/1.1/\" xmlns:rdf=\"http://www.w3.org/1999/02/22-rdf-syntax-ns#\">\n   <cc:Work>\n    <dc:type rdf:resource=\"http://purl.org/dc/dcmitype/StillImage\"/>\n    <dc:date>2021-06-02T16:41:52.677199</dc:date>\n    <dc:format>image/svg+xml</dc:format>\n    <dc:creator>\n     <cc:Agent>\n      <dc:title>Matplotlib v3.4.1, https://matplotlib.org/</dc:title>\n     </cc:Agent>\n    </dc:creator>\n   </cc:Work>\n  </rdf:RDF>\n </metadata>\n <defs>\n  <style type=\"text/css\">*{stroke-linecap:butt;stroke-linejoin:round;}</style>\n </defs>\n <g id=\"figure_1\">\n  <g id=\"patch_1\">\n   <path d=\"M 0 251.892656 \nL 262.799687 251.892656 \nL 262.799687 0 \nL 0 0 \nz\n\" style=\"fill:none;\"/>\n  </g>\n  <g id=\"axes_1\">\n   <g id=\"patch_2\">\n    <path d=\"M 33.2875 228.014531 \nL 250.7275 228.014531 \nL 250.7275 10.574531 \nL 33.2875 10.574531 \nz\n\" style=\"fill:#ffffff;\"/>\n   </g>\n   <g clip-path=\"url(#pfa44b9bc40)\">\n    <image height=\"218\" id=\"image3a778d3f65\" transform=\"scale(1 -1)translate(0 -218)\" width=\"218\" x=\"33.2875\" xlink:href=\"data:image/png;base64,\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\" y=\"-10.014531\"/>\n   </g>\n   <g id=\"matplotlib.axis_1\">\n    <g id=\"xtick_1\">\n     <g id=\"line2d_1\">\n      <defs>\n       <path d=\"M 0 0 \nL 0 3.5 \n\" id=\"mb0082916de\" style=\"stroke:#000000;stroke-width:0.8;\"/>\n      </defs>\n      <g>\n       <use style=\"stroke:#000000;stroke-width:0.8;\" x=\"33.712188\" xlink:href=\"#mb0082916de\" y=\"228.014531\"/>\n      </g>\n     </g>\n     <g id=\"text_1\">\n      <!-- 0 -->\n      <g transform=\"translate(30.530938 242.612969)scale(0.1 -0.1)\">\n       <defs>\n        <path d=\"M 2034 4250 \nQ 1547 4250 1301 3770 \nQ 1056 3291 1056 2328 \nQ 1056 1369 1301 889 \nQ 1547 409 2034 409 \nQ 2525 409 2770 889 \nQ 3016 1369 3016 2328 \nQ 3016 3291 2770 3770 \nQ 2525 4250 2034 4250 \nz\nM 2034 4750 \nQ 2819 4750 3233 4129 \nQ 3647 3509 3647 2328 \nQ 3647 1150 3233 529 \nQ 2819 -91 2034 -91 \nQ 1250 -91 836 529 \nQ 422 1150 422 2328 \nQ 422 3509 836 4129 \nQ 1250 4750 2034 4750 \nz\n\" id=\"DejaVuSans-30\" transform=\"scale(0.015625)\"/>\n       </defs>\n       <use xlink:href=\"#DejaVuSans-30\"/>\n      </g>\n     </g>\n    </g>\n    <g id=\"xtick_2\">\n     <g id=\"line2d_2\">\n      <g>\n       <use style=\"stroke:#000000;stroke-width:0.8;\" x=\"76.180937\" xlink:href=\"#mb0082916de\" y=\"228.014531\"/>\n      </g>\n     </g>\n     <g id=\"text_2\">\n      <!-- 50 -->\n      <g transform=\"translate(69.818438 242.612969)scale(0.1 -0.1)\">\n       <defs>\n        <path d=\"M 691 4666 \nL 3169 4666 \nL 3169 4134 \nL 1269 4134 \nL 1269 2991 \nQ 1406 3038 1543 3061 \nQ 1681 3084 1819 3084 \nQ 2600 3084 3056 2656 \nQ 3513 2228 3513 1497 \nQ 3513 744 3044 326 \nQ 2575 -91 1722 -91 \nQ 1428 -91 1123 -41 \nQ 819 9 494 109 \nL 494 744 \nQ 775 591 1075 516 \nQ 1375 441 1709 441 \nQ 2250 441 2565 725 \nQ 2881 1009 2881 1497 \nQ 2881 1984 2565 2268 \nQ 2250 2553 1709 2553 \nQ 1456 2553 1204 2497 \nQ 953 2441 691 2322 \nL 691 4666 \nz\n\" id=\"DejaVuSans-35\" transform=\"scale(0.015625)\"/>\n       </defs>\n       <use xlink:href=\"#DejaVuSans-35\"/>\n       <use x=\"63.623047\" xlink:href=\"#DejaVuSans-30\"/>\n      </g>\n     </g>\n    </g>\n    <g id=\"xtick_3\">\n     <g id=\"line2d_3\">\n      <g>\n       <use style=\"stroke:#000000;stroke-width:0.8;\" x=\"118.649687\" xlink:href=\"#mb0082916de\" y=\"228.014531\"/>\n      </g>\n     </g>\n     <g id=\"text_3\">\n      <!-- 100 -->\n      <g transform=\"translate(109.105937 242.612969)scale(0.1 -0.1)\">\n       <defs>\n        <path d=\"M 794 531 \nL 1825 531 \nL 1825 4091 \nL 703 3866 \nL 703 4441 \nL 1819 4666 \nL 2450 4666 \nL 2450 531 \nL 3481 531 \nL 3481 0 \nL 794 0 \nL 794 531 \nz\n\" id=\"DejaVuSans-31\" transform=\"scale(0.015625)\"/>\n       </defs>\n       <use xlink:href=\"#DejaVuSans-31\"/>\n       <use x=\"63.623047\" xlink:href=\"#DejaVuSans-30\"/>\n       <use x=\"127.246094\" xlink:href=\"#DejaVuSans-30\"/>\n      </g>\n     </g>\n    </g>\n    <g id=\"xtick_4\">\n     <g id=\"line2d_4\">\n      <g>\n       <use style=\"stroke:#000000;stroke-width:0.8;\" x=\"161.118437\" xlink:href=\"#mb0082916de\" y=\"228.014531\"/>\n      </g>\n     </g>\n     <g id=\"text_4\">\n      <!-- 150 -->\n      <g transform=\"translate(151.574688 242.612969)scale(0.1 -0.1)\">\n       <use xlink:href=\"#DejaVuSans-31\"/>\n       <use x=\"63.623047\" xlink:href=\"#DejaVuSans-35\"/>\n       <use x=\"127.246094\" xlink:href=\"#DejaVuSans-30\"/>\n      </g>\n     </g>\n    </g>\n    <g id=\"xtick_5\">\n     <g id=\"line2d_5\">\n      <g>\n       <use style=\"stroke:#000000;stroke-width:0.8;\" x=\"203.587187\" xlink:href=\"#mb0082916de\" y=\"228.014531\"/>\n      </g>\n     </g>\n     <g id=\"text_5\">\n      <!-- 200 -->\n      <g transform=\"translate(194.043438 242.612969)scale(0.1 -0.1)\">\n       <defs>\n        <path d=\"M 1228 531 \nL 3431 531 \nL 3431 0 \nL 469 0 \nL 469 531 \nQ 828 903 1448 1529 \nQ 2069 2156 2228 2338 \nQ 2531 2678 2651 2914 \nQ 2772 3150 2772 3378 \nQ 2772 3750 2511 3984 \nQ 2250 4219 1831 4219 \nQ 1534 4219 1204 4116 \nQ 875 4013 500 3803 \nL 500 4441 \nQ 881 4594 1212 4672 \nQ 1544 4750 1819 4750 \nQ 2544 4750 2975 4387 \nQ 3406 4025 3406 3419 \nQ 3406 3131 3298 2873 \nQ 3191 2616 2906 2266 \nQ 2828 2175 2409 1742 \nQ 1991 1309 1228 531 \nz\n\" id=\"DejaVuSans-32\" transform=\"scale(0.015625)\"/>\n       </defs>\n       <use xlink:href=\"#DejaVuSans-32\"/>\n       <use x=\"63.623047\" xlink:href=\"#DejaVuSans-30\"/>\n       <use x=\"127.246094\" xlink:href=\"#DejaVuSans-30\"/>\n      </g>\n     </g>\n    </g>\n    <g id=\"xtick_6\">\n     <g id=\"line2d_6\">\n      <g>\n       <use style=\"stroke:#000000;stroke-width:0.8;\" x=\"246.055937\" xlink:href=\"#mb0082916de\" y=\"228.014531\"/>\n      </g>\n     </g>\n     <g id=\"text_6\">\n      <!-- 250 -->\n      <g transform=\"translate(236.512188 242.612969)scale(0.1 -0.1)\">\n       <use xlink:href=\"#DejaVuSans-32\"/>\n       <use x=\"63.623047\" xlink:href=\"#DejaVuSans-35\"/>\n       <use x=\"127.246094\" xlink:href=\"#DejaVuSans-30\"/>\n      </g>\n     </g>\n    </g>\n   </g>\n   <g id=\"matplotlib.axis_2\">\n    <g id=\"ytick_1\">\n     <g id=\"line2d_7\">\n      <defs>\n       <path d=\"M 0 0 \nL -3.5 0 \n\" id=\"me013075098\" style=\"stroke:#000000;stroke-width:0.8;\"/>\n      </defs>\n      <g>\n       <use style=\"stroke:#000000;stroke-width:0.8;\" x=\"33.2875\" xlink:href=\"#me013075098\" y=\"10.999219\"/>\n      </g>\n     </g>\n     <g id=\"text_7\">\n      <!-- 0 -->\n      <g transform=\"translate(19.925 14.798438)scale(0.1 -0.1)\">\n       <use xlink:href=\"#DejaVuSans-30\"/>\n      </g>\n     </g>\n    </g>\n    <g id=\"ytick_2\">\n     <g id=\"line2d_8\">\n      <g>\n       <use style=\"stroke:#000000;stroke-width:0.8;\" x=\"33.2875\" xlink:href=\"#me013075098\" y=\"53.467969\"/>\n      </g>\n     </g>\n     <g id=\"text_8\">\n      <!-- 50 -->\n      <g transform=\"translate(13.5625 57.267188)scale(0.1 -0.1)\">\n       <use xlink:href=\"#DejaVuSans-35\"/>\n       <use x=\"63.623047\" xlink:href=\"#DejaVuSans-30\"/>\n      </g>\n     </g>\n    </g>\n    <g id=\"ytick_3\">\n     <g id=\"line2d_9\">\n      <g>\n       <use style=\"stroke:#000000;stroke-width:0.8;\" x=\"33.2875\" xlink:href=\"#me013075098\" y=\"95.936719\"/>\n      </g>\n     </g>\n     <g id=\"text_9\">\n      <!-- 100 -->\n      <g transform=\"translate(7.2 99.735938)scale(0.1 -0.1)\">\n       <use xlink:href=\"#DejaVuSans-31\"/>\n       <use x=\"63.623047\" xlink:href=\"#DejaVuSans-30\"/>\n       <use x=\"127.246094\" xlink:href=\"#DejaVuSans-30\"/>\n      </g>\n     </g>\n    </g>\n    <g id=\"ytick_4\">\n     <g id=\"line2d_10\">\n      <g>\n       <use style=\"stroke:#000000;stroke-width:0.8;\" x=\"33.2875\" xlink:href=\"#me013075098\" y=\"138.405469\"/>\n      </g>\n     </g>\n     <g id=\"text_10\">\n      <!-- 150 -->\n      <g transform=\"translate(7.2 142.204688)scale(0.1 -0.1)\">\n       <use xlink:href=\"#DejaVuSans-31\"/>\n       <use x=\"63.623047\" xlink:href=\"#DejaVuSans-35\"/>\n       <use x=\"127.246094\" xlink:href=\"#DejaVuSans-30\"/>\n      </g>\n     </g>\n    </g>\n    <g id=\"ytick_5\">\n     <g id=\"line2d_11\">\n      <g>\n       <use style=\"stroke:#000000;stroke-width:0.8;\" x=\"33.2875\" xlink:href=\"#me013075098\" y=\"180.874219\"/>\n      </g>\n     </g>\n     <g id=\"text_11\">\n      <!-- 200 -->\n      <g transform=\"translate(7.2 184.673438)scale(0.1 -0.1)\">\n       <use xlink:href=\"#DejaVuSans-32\"/>\n       <use x=\"63.623047\" xlink:href=\"#DejaVuSans-30\"/>\n       <use x=\"127.246094\" xlink:href=\"#DejaVuSans-30\"/>\n      </g>\n     </g>\n    </g>\n    <g id=\"ytick_6\">\n     <g id=\"line2d_12\">\n      <g>\n       <use style=\"stroke:#000000;stroke-width:0.8;\" x=\"33.2875\" xlink:href=\"#me013075098\" y=\"223.342969\"/>\n      </g>\n     </g>\n     <g id=\"text_12\">\n      <!-- 250 -->\n      <g transform=\"translate(7.2 227.142188)scale(0.1 -0.1)\">\n       <use xlink:href=\"#DejaVuSans-32\"/>\n       <use x=\"63.623047\" xlink:href=\"#DejaVuSans-35\"/>\n       <use x=\"127.246094\" xlink:href=\"#DejaVuSans-30\"/>\n      </g>\n     </g>\n    </g>\n   </g>\n   <g id=\"patch_3\">\n    <path d=\"M 33.2875 228.014531 \nL 33.2875 10.574531 \n\" style=\"fill:none;stroke:#000000;stroke-linecap:square;stroke-linejoin:miter;stroke-width:0.8;\"/>\n   </g>\n   <g id=\"patch_4\">\n    <path d=\"M 250.7275 228.014531 \nL 250.7275 10.574531 \n\" style=\"fill:none;stroke:#000000;stroke-linecap:square;stroke-linejoin:miter;stroke-width:0.8;\"/>\n   </g>\n   <g id=\"patch_5\">\n    <path d=\"M 33.2875 228.014531 \nL 250.7275 228.014531 \n\" style=\"fill:none;stroke:#000000;stroke-linecap:square;stroke-linejoin:miter;stroke-width:0.8;\"/>\n   </g>\n   <g id=\"patch_6\">\n    <path d=\"M 33.2875 10.574531 \nL 250.7275 10.574531 \n\" style=\"fill:none;stroke:#000000;stroke-linecap:square;stroke-linejoin:miter;stroke-width:0.8;\"/>\n   </g>\n  </g>\n </g>\n <defs>\n  <clipPath id=\"pfa44b9bc40\">\n   <rect height=\"217.44\" width=\"217.44\" x=\"33.2875\" y=\"10.574531\"/>\n  </clipPath>\n </defs>\n</svg>\n",
      "image/png": "[encoded data removed]"
     },
     "metadata": {
      "needs_background": "light"
     }
    }
   ],
   "source": [
    "import matplotlib.pyplot as plt\n",
    "plt.imshow(unwarped_img.numpy()[0])"
   ]
  },
  {
   "cell_type": "code",
   "execution_count": 57,
   "metadata": {},
   "outputs": [
    {
     "output_type": "execute_result",
     "data": {
      "text/plain": [
       "torch.Size([1, 256, 256, 2])"
      ]
     },
     "metadata": {},
     "execution_count": 57
    }
   ],
   "source": [
    "x.shape"
   ]
  },
  {
   "cell_type": "code",
   "execution_count": 21,
   "metadata": {},
   "outputs": [
    {
     "output_type": "execute_result",
     "data": {
      "text/plain": [
       "torch.Size([1, 256, 256, 2])"
      ]
     },
     "metadata": {},
     "execution_count": 21
    }
   ],
   "source": [
    "x.shape"
   ]
  },
  {
   "cell_type": "code",
   "execution_count": 22,
   "metadata": {},
   "outputs": [
    {
     "output_type": "execute_result",
     "data": {
      "text/plain": [
       "torch.Size([1, 2, 256, 256])"
      ]
     },
     "metadata": {},
     "execution_count": 22
    }
   ],
   "source": [
    "labels['warped_bm'].shape #NCHW"
   ]
  },
  {
   "cell_type": "code",
   "execution_count": 2,
   "metadata": {},
   "outputs": [],
   "source": [
    "\n",
    "img = cv2.imread('Dataset Preview/Inv3D preview/data/train/09/warped_document.png') \n",
    "cv2.imshow('img', img)\n",
    "cv2.waitKey(0) \n",
    "  \n",
    "#closing all open windows \n",
    "cv2.destroyAllWindows() \n"
   ]
  },
  {
   "cell_type": "code",
   "execution_count": 15,
   "metadata": {},
   "outputs": [
    {
     "output_type": "execute_result",
     "data": {
      "text/plain": [
       "(256, 256, 2)"
      ]
     },
     "metadata": {},
     "execution_count": 15
    }
   ],
   "source": [
    "bm.shape"
   ]
  },
  {
   "cell_type": "code",
   "execution_count": 16,
   "metadata": {},
   "outputs": [
    {
     "output_type": "execute_result",
     "data": {
      "text/plain": [
       "(256, 256, 3)"
      ]
     },
     "metadata": {},
     "execution_count": 16
    }
   ],
   "source": [
    "img.shape"
   ]
  },
  {
   "cell_type": "code",
   "execution_count": 17,
   "metadata": {},
   "outputs": [
    {
     "output_type": "execute_result",
     "data": {
      "text/plain": [
       "torch.Size([1, 3, 256, 256])"
      ]
     },
     "metadata": {},
     "execution_count": 17
    }
   ],
   "source": [
    "images.shape"
   ]
  },
  {
   "cell_type": "code",
   "execution_count": 21,
   "metadata": {},
   "outputs": [
    {
     "output_type": "execute_result",
     "data": {
      "text/plain": [
       "torch.Size([1, 2, 256, 256])"
      ]
     },
     "metadata": {},
     "execution_count": 21
    }
   ],
   "source": [
    "labels['warped_bm'].shape"
   ]
  },
  {
   "cell_type": "code",
   "execution_count": 3,
   "metadata": {},
   "outputs": [
    {
     "output_type": "execute_result",
     "data": {
      "text/plain": [
       "torch.Size([1, 256, 256, 2])"
      ]
     },
     "metadata": {},
     "execution_count": 3
    }
   ],
   "source": []
  },
  {
   "cell_type": "code",
   "execution_count": null,
   "metadata": {},
   "outputs": [],
   "source": []
  }
 ]
}